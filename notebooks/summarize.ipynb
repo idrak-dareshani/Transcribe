{
 "cells": [
  {
   "cell_type": "code",
   "execution_count": 1,
   "id": "3395d6ee",
   "metadata": {},
   "outputs": [],
   "source": [
    "with open('analysis/sentences.txt', 'r', encoding=\"utf-8\") as file:\n",
    "    sentences = file.read()"
   ]
  },
  {
   "cell_type": "code",
   "execution_count": 2,
   "id": "368a5987",
   "metadata": {},
   "outputs": [
    {
     "data": {
      "application/vnd.jupyter.widget-view+json": {
       "model_id": "e55ade51a4a746aa8766cf3d761767d4",
       "version_major": 2,
       "version_minor": 0
      },
      "text/plain": [
       "model.safetensors:   0%|          | 0.00/1.63G [00:00<?, ?B/s]"
      ]
     },
     "metadata": {},
     "output_type": "display_data"
    },
    {
     "data": {
      "application/vnd.jupyter.widget-view+json": {
       "model_id": "45379241b24f41a7a5236a70da04de77",
       "version_major": 2,
       "version_minor": 0
      },
      "text/plain": [
       "generation_config.json:   0%|          | 0.00/363 [00:00<?, ?B/s]"
      ]
     },
     "metadata": {},
     "output_type": "display_data"
    },
    {
     "data": {
      "application/vnd.jupyter.widget-view+json": {
       "model_id": "e5029a39a0e849469f37e6dec973e928",
       "version_major": 2,
       "version_minor": 0
      },
      "text/plain": [
       "vocab.json:   0%|          | 0.00/899k [00:00<?, ?B/s]"
      ]
     },
     "metadata": {},
     "output_type": "display_data"
    },
    {
     "data": {
      "application/vnd.jupyter.widget-view+json": {
       "model_id": "3e453f09464043a380e816c566d9f035",
       "version_major": 2,
       "version_minor": 0
      },
      "text/plain": [
       "merges.txt:   0%|          | 0.00/456k [00:00<?, ?B/s]"
      ]
     },
     "metadata": {},
     "output_type": "display_data"
    },
    {
     "data": {
      "application/vnd.jupyter.widget-view+json": {
       "model_id": "b3de10d4c1bf49959a4d02867737fd32",
       "version_major": 2,
       "version_minor": 0
      },
      "text/plain": [
       "tokenizer.json:   0%|          | 0.00/1.36M [00:00<?, ?B/s]"
      ]
     },
     "metadata": {},
     "output_type": "display_data"
    },
    {
     "name": "stderr",
     "output_type": "stream",
     "text": [
      "Device set to use cpu\n"
     ]
    }
   ],
   "source": [
    "from transformers import pipeline\n",
    "summarizer = pipeline(\"summarization\", model=\"facebook/bart-large-cnn\")"
   ]
  },
  {
   "cell_type": "code",
   "execution_count": 23,
   "id": "a5a5311d",
   "metadata": {},
   "outputs": [],
   "source": [
    "combined_text = \" \".join(sentences)"
   ]
  },
  {
   "cell_type": "code",
   "execution_count": 24,
   "id": "4e449007",
   "metadata": {},
   "outputs": [],
   "source": [
    "def chunk_text(text, max_words=500):\n",
    "    words = text.split()\n",
    "    for i in range(0, len(words), max_words):\n",
    "        yield ' '.join(words[i:i + max_words])"
   ]
  },
  {
   "cell_type": "code",
   "execution_count": 25,
   "id": "9d0f167f",
   "metadata": {},
   "outputs": [],
   "source": [
    "def summarize_text(text):\n",
    "    \"\"\"\n",
    "    Summarizes the input text, with support for chunking and error handling.\n",
    "    \"\"\"\n",
    "    if not text.strip():\n",
    "        return \"⚠️ Empty input. Skipped.\"\n",
    "\n",
    "    elif len(text.split()) < 30:\n",
    "        return \"ℹ️ Text too short to summarize. Consider keeping as-is.\"\n",
    "\n",
    "    summaries = []\n",
    "\n",
    "    for chunk in chunk_text(text):\n",
    "        try:\n",
    "            summary = summarizer(chunk, max_length=80, min_length=30, do_sample=False)\n",
    "            summaries.append(summary[0]['summary_text'])\n",
    "        except Exception as e:\n",
    "            summaries.append(f\"❌ Error summarizing chunk: {str(e)}\")\n",
    "\n",
    "    return \"\\n\\n\".join(summaries)"
   ]
  },
  {
   "cell_type": "code",
   "execution_count": null,
   "id": "8260b99c",
   "metadata": {},
   "outputs": [],
   "source": [
    "result = summarize_text(combined_text)"
   ]
  },
  {
   "cell_type": "code",
   "execution_count": 27,
   "id": "cdbae60a",
   "metadata": {},
   "outputs": [],
   "source": [
    "with open(\"analysis/summary.txt\", \"w\", encoding=\"utf-8\") as f:\n",
    "    f.write(result)"
   ]
  }
 ],
 "metadata": {
  "kernelspec": {
   "display_name": ".venv",
   "language": "python",
   "name": "python3"
  },
  "language_info": {
   "codemirror_mode": {
    "name": "ipython",
    "version": 3
   },
   "file_extension": ".py",
   "mimetype": "text/x-python",
   "name": "python",
   "nbconvert_exporter": "python",
   "pygments_lexer": "ipython3",
   "version": "3.13.3"
  }
 },
 "nbformat": 4,
 "nbformat_minor": 5
}
