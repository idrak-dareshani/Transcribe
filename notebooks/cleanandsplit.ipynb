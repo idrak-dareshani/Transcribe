{
 "cells": [
  {
   "cell_type": "code",
   "execution_count": 12,
   "id": "e2d45f37",
   "metadata": {},
   "outputs": [],
   "source": [
    "with open('transcripts/transcription.txt', 'r', encoding=\"utf-8\") as file:\n",
    "    text = file.read()"
   ]
  },
  {
   "cell_type": "code",
   "execution_count": 13,
   "id": "f15ac44d",
   "metadata": {},
   "outputs": [],
   "source": [
    "import nltk"
   ]
  },
  {
   "cell_type": "code",
   "execution_count": 14,
   "id": "4e1706ba",
   "metadata": {},
   "outputs": [
    {
     "data": {
      "text/plain": [
       "True"
      ]
     },
     "execution_count": 14,
     "metadata": {},
     "output_type": "execute_result"
    }
   ],
   "source": [
    "nltk.download('punkt_tab', download_dir='f:\\\\nltk_data', quiet=True)"
   ]
  },
  {
   "cell_type": "code",
   "execution_count": 15,
   "id": "e310a615",
   "metadata": {},
   "outputs": [],
   "source": [
    "from nltk.tokenize import sent_tokenize"
   ]
  },
  {
   "cell_type": "code",
   "execution_count": 17,
   "id": "2a9e5f73",
   "metadata": {},
   "outputs": [],
   "source": [
    "sentences = sent_tokenize(text, language='english')\n",
    "with open('analysis/sentences.txt', 'w', encoding=\"utf-8\") as file:\n",
    "    for sentence in sentences:\n",
    "        file.write(sentence + '\\n')"
   ]
  }
 ],
 "metadata": {
  "kernelspec": {
   "display_name": ".venv",
   "language": "python",
   "name": "python3"
  },
  "language_info": {
   "codemirror_mode": {
    "name": "ipython",
    "version": 3
   },
   "file_extension": ".py",
   "mimetype": "text/x-python",
   "name": "python",
   "nbconvert_exporter": "python",
   "pygments_lexer": "ipython3",
   "version": "3.13.3"
  }
 },
 "nbformat": 4,
 "nbformat_minor": 5
}
