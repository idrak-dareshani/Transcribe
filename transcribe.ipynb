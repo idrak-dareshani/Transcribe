{
 "cells": [
  {
   "cell_type": "code",
   "execution_count": null,
   "id": "50c884fa",
   "metadata": {},
   "outputs": [],
   "source": [
    "import whisper\n",
    "import time"
   ]
  },
  {
   "cell_type": "code",
   "execution_count": null,
   "id": "6d404394",
   "metadata": {},
   "outputs": [],
   "source": [
    "model = whisper.load_model(\"medium\")"
   ]
  },
  {
   "cell_type": "code",
   "execution_count": null,
   "id": "96339923",
   "metadata": {},
   "outputs": [],
   "source": [
    "audio_file = \"audio/input_audio.mp3\""
   ]
  },
  {
   "cell_type": "code",
   "execution_count": null,
   "id": "536f70d3",
   "metadata": {},
   "outputs": [],
   "source": [
    "start_time = time.time()\n",
    "result = model.transcribe(audio_file, language=\"en\")\n",
    "end_time = time.time()"
   ]
  },
  {
   "cell_type": "code",
   "execution_count": null,
   "id": "9eb825dc",
   "metadata": {},
   "outputs": [],
   "source": [
    "elapsed = end_time - start_time\n",
    "minutes = int(elapsed // 60)\n",
    "seconds = int(elapsed % 60)\n",
    "print(f\"Time taken: {minutes} min {seconds} sec\")"
   ]
  },
  {
   "cell_type": "code",
   "execution_count": null,
   "id": "1d08d886",
   "metadata": {},
   "outputs": [],
   "source": [
    "with open(\"transcripts/transcription.txt\", \"w\", encoding=\"utf-8\") as f:\n",
    "    f.write(result[\"text\"])"
   ]
  }
 ],
 "metadata": {
  "language_info": {
   "name": "python"
  }
 },
 "nbformat": 4,
 "nbformat_minor": 5
}
